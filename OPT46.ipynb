{
 "cells": [
  {
   "cell_type": "markdown",
   "metadata": {},
   "source": [
    "# 46 kNN\n",
    "## 46.1 kNN原理"
   ]
  },
  {
   "cell_type": "code",
   "execution_count": 1,
   "metadata": {},
   "outputs": [
    {
     "data": {
      "text/plain": [
       "array([[ 90.,  19.],\n",
       "       [ 83.,  86.],\n",
       "       [ 79.,  29.],\n",
       "       [ 73.,  30.],\n",
       "       [ 38.,  47.],\n",
       "       [ 62.,   0.],\n",
       "       [  2.,  82.],\n",
       "       [ 62.,  41.],\n",
       "       [ 60.,  41.],\n",
       "       [ 64.,  80.],\n",
       "       [ 96.,  70.],\n",
       "       [ 94.,  88.],\n",
       "       [ 78.,   3.],\n",
       "       [ 59.,   8.]], dtype=float32)"
      ]
     },
     "execution_count": 1,
     "metadata": {},
     "output_type": "execute_result"
    }
   ],
   "source": [
    "import cv2\n",
    "import numpy as np\n",
    "from matplotlib import pyplot as plt\n",
    "import logging\n",
    "\n",
    "# 生成 25 × 2 的矩阵（坐标），每个元素∈[0, 100)\n",
    "trainData = np.random.randint(0, 100, (25, 2)).astype(np.float32)\n",
    "# 生成 25 × 1 的矩阵（颜色），每个元素∈[0, 2)\n",
    "responses = np.random.randint(0, 2, (25, 1)).astype(np.float32)\n",
    "# 以上两步其实生成了 25 × 3 的矩阵，每一行为(x, y color)\n",
    "\n",
    "# responses.ravel() == 0 返回一个Boolean序列\n",
    "# red 为color==0的所有行\n",
    "red = trainData[responses.ravel() == 0]\n",
    "\n",
    "# red[:, 0]、red[:, 1] 提取所有行的x列 和 y列\n",
    "# 参数3、参数4、参数5 绘制大小、颜色、形状\n",
    "plt.scatter(red[:, 0], red[:, 1], 10, 'r', '^')\n",
    "\n",
    "red"
   ]
  },
  {
   "cell_type": "code",
   "execution_count": 2,
   "metadata": {},
   "outputs": [
    {
     "data": {
      "image/png": "[encoded data removed]",
      "text/plain": [
       "<matplotlib.figure.Figure at 0x106eea748>"
      ]
     },
     "metadata": {},
     "output_type": "display_data"
    }
   ],
   "source": [
    "plt.show()"
   ]
  },
  {
   "cell_type": "code",
   "execution_count": 3,
   "metadata": {},
   "outputs": [
    {
     "data": {
      "text/plain": [
       "<matplotlib.collections.PathCollection at 0x117a91470>"
      ]
     },
     "execution_count": 3,
     "metadata": {},
     "output_type": "execute_result"
    }
   ],
   "source": [
    "# 与red同理\n",
    "blue = trainData[responses.ravel() == 1]\n",
    "plt.scatter(blue[:, 0], blue[:, 1], 10, 'b', 's')"
   ]
  },
  {
   "cell_type": "code",
   "execution_count": 4,
   "metadata": {},
   "outputs": [
    {
     "data": {
      "text/plain": [
       "array([[ 88.,  49.],\n",
       "       [ 26.,  82.],\n",
       "       [ 46.,  46.],\n",
       "       [ 51.,  66.],\n",
       "       [ 54.,  88.],\n",
       "       [ 81.,  20.],\n",
       "       [ 27.,  25.],\n",
       "       [ 81.,  18.],\n",
       "       [ 62.,  51.],\n",
       "       [ 37.,  30.],\n",
       "       [ 45.,  15.]], dtype=float32)"
      ]
     },
     "execution_count": 4,
     "metadata": {},
     "output_type": "execute_result"
    }
   ],
   "source": [
    "blue"
   ]
  },
  {
   "cell_type": "code",
   "execution_count": 5,
   "metadata": {},
   "outputs": [
    {
     "data": {
      "image/png": "[encoded data removed]",
      "text/plain": [
       "<matplotlib.figure.Figure at 0x1179e5be0>"
      ]
     },
     "metadata": {},
     "output_type": "display_data"
    }
   ],
   "source": [
    "plt.show()"
   ]
  },
  {
   "cell_type": "code",
   "execution_count": 6,
   "metadata": {},
   "outputs": [
    {
     "data": {
      "text/plain": [
       "<matplotlib.collections.PathCollection at 0x117b57a90>"
      ]
     },
     "execution_count": 6,
     "metadata": {},
     "output_type": "execute_result"
    }
   ],
   "source": [
    "# 随机生成newcomer的x、y坐标\n",
    "newcomer = np.random.randint(0, 100, (5, 2)).astype(np.float32)\n",
    "plt.scatter(newcomer[:, 0], newcomer[:, 1], 20, 'g', 'o')"
   ]
  },
  {
   "cell_type": "code",
   "execution_count": 8,
   "metadata": {},
   "outputs": [
    {
     "data": {
      "image/png": "[encoded data removed]",
      "text/plain": [
       "<matplotlib.figure.Figure at 0x1179e5358>"
      ]
     },
     "metadata": {},
     "output_type": "display_data"
    }
   ],
   "source": [
    "knn = cv2.ml.KNearest_create()\n",
    "knn.train(trainData, cv2.ml.ROW_SAMPLE, responses)\n",
    "ret, results, neighbours, dist = knn.findNearest(newcomer, 3)\n",
    "\n",
    "results # 预测newcomer的颜色\n",
    "neighbours # 与newcomer邻近的3个点的颜色\n",
    "dist  # 与newcomer邻近的3个点的距离\n",
    "\n",
    "\n",
    "plt.scatter(red[:, 0], red[:, 1], 10, 'r', '^')\n",
    "plt.scatter(blue[:, 0], blue[:, 1], 10, 'b', 's')\n",
    "plt.scatter(newcomer[:, 0], newcomer[:, 1], 20, 'g', 'o')\n",
    "plt.show()"
   ]
  },
  {
   "cell_type": "markdown",
   "metadata": {},
   "source": [
    "## 46.2.1 使用kNN对手写数字OCR\n",
    "按照上一节的原理，把包含5000个数字的1张大图符切割成20×20的5000张小图，每张图片又可视为400维的数据。分出2500张作为训练集，即在400维的空间中标出10种类型的点，每种点有50个样本，这就是训练过程。预测就是给定一个400维的测试数据，根据它与邻居之间的距离关系判断它属于哪一类。"
   ]
  },
  {
   "cell_type": "code",
   "execution_count": 9,
   "metadata": {},
   "outputs": [
    {
     "data": {
      "text/plain": [
       "91.76"
      ]
     },
     "execution_count": 9,
     "metadata": {},
     "output_type": "execute_result"
    }
   ],
   "source": [
    "img = cv2.imread('images/digits.png')\n",
    "gray = cv2.cvtColor(img, cv2.COLOR_BGR2GRAY)\n",
    "# 将大图 50行×100列 分成5000张小图\n",
    "cells = [np.hsplit(row, 100) for row in np.vsplit(gray, 50)]\n",
    "# 将cells装到numpy array中，这是一个[50, 100, 20, 20]的数组\n",
    "x = np.array(cells)\n",
    "\n",
    "# 分出前50列共2500张图，重新组织成2500张每张图400个像素的训练数据\n",
    "train = x[:, :50].reshape(-1, 400).astype(np.float32)\n",
    "# 重新组织测试数据，共2500张图\n",
    "test = x[:, 50:100].reshape(-1, 400).astype(np.float32)\n",
    "\n",
    "# 为训练数据和测试数据创建labels\n",
    "k = np.arange(10)\n",
    "trainLabels = np.repeat(k, 250)[:, np.newaxis]\n",
    "testLabels = trainLabels.copy()\n",
    "\n",
    "knn = cv2.ml.KNearest_create()\n",
    "knn.train(train, cv2.ml.ROW_SAMPLE, trainLabels)\n",
    "ret, results, neighbours, dist = knn.findNearest(test, k=5)\n",
    "\n",
    "matches = results == testLabels\n",
    "correct = np.count_nonzero(matches)\n",
    "accuracy = correct * 100.0 / results.size\n",
    "\n",
    "accuracy"
   ]
  },
  {
   "cell_type": "markdown",
   "metadata": {},
   "source": [
    "挑选一张测试图片："
   ]
  },
  {
   "cell_type": "code",
   "execution_count": 15,
   "metadata": {},
   "outputs": [
    {
     "data": {
      "image/png": "[encoded data removed]",
      "text/plain": [
       "<matplotlib.figure.Figure at 0x117bdcf98>"
      ]
     },
     "metadata": {},
     "output_type": "display_data"
    }
   ],
   "source": [
    "testcase = test[502]\n",
    "plt.imshow(testcase.reshape(20, 20))\n",
    "plt.xticks([]), plt.yticks([])\n",
    "plt.show()"
   ]
  },
  {
   "cell_type": "markdown",
   "metadata": {},
   "source": [
    "识别该图片："
   ]
  },
  {
   "cell_type": "code",
   "execution_count": 16,
   "metadata": {},
   "outputs": [
    {
     "data": {
      "text/plain": [
       "array([[ 2.]], dtype=float32)"
      ]
     },
     "execution_count": 16,
     "metadata": {},
     "output_type": "execute_result"
    }
   ],
   "source": [
    "ret, results, neighbours, dist = knn.findNearest(np.array([testcase]), k=5)\n",
    "\n",
    "results"
   ]
  },
  {
   "cell_type": "markdown",
   "metadata": {},
   "source": [
    "## 46.2.2 英文字母的OCR\n",
    "数据来自http://archive.ics.uci.edu/ml/datasets/Letter+Recognition\n",
    "它采集了26个大写字母的20中不同字体，并且通过扭曲处理生成20,000个采样数据。将样本图片抽象成16个可数字化的属性。数据文件letter-recognition.data是一个文本文件，它包含了这16个属性，形式为：\n",
    "`T,2,8,3,5,1,8,13,0,6,6,10,8,0,8,0,8`\n",
    "各列含义为：\n",
    "\n",
    "1. 大写字母（从A到Z有26个值）\n",
    "2. 框的左边缘的x坐标（整数）\n",
    "3. 框的顶部y坐标（整数）\n",
    "4. 框的宽度（整数）\n",
    "5. 框高度（整数）\n",
    "6. onpix总像素数（整数）\n",
    "7. 框中像素的x-均值（整数）\n",
    "8. 框中像素的y-均值（整数）\n",
    "9. x2bar平均值方差（整数）\n",
    "10. y2bar平均值方差（整数）\n",
    "11. xybar mean x y相关性（整数）\n",
    "12. x²ybr的平均值x · x · y（整数）\n",
    "13. xy²br平均值x · y · y（整数）\n",
    "14. x-ege平均边数从左到右（整数）\n",
    "15. x-ege与y的整数相关（整数）\n",
    "16. y-ege平均边数从下到上（整数）\n",
    "17. y-ege与x（整数）的yegvx相关性"
   ]
  },
  {
   "cell_type": "code",
   "execution_count": null,
   "metadata": {},
   "outputs": [],
   "source": []
  }
 ],
 "metadata": {
  "kernelspec": {
   "display_name": "Python 3",
   "language": "python",
   "name": "python3"
  },
  "language_info": {
   "codemirror_mode": {
    "name": "ipython",
    "version": 3
   },
   "file_extension": ".py",
   "mimetype": "text/x-python",
   "name": "python",
   "nbconvert_exporter": "python",
   "pygments_lexer": "ipython3",
   "version": "3.6.3"
  }
 },
 "nbformat": 4,
 "nbformat_minor": 2
}
